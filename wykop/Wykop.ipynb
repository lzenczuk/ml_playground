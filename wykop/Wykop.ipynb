{
 "cells": [
  {
   "cell_type": "markdown",
   "metadata": {},
   "source": [
    "# Wykop project\n",
    "Project of fetching and analysing wykop data."
   ]
  },
  {
   "cell_type": "markdown",
   "metadata": {},
   "source": [
    "## Fetching data\n",
    "Pages in wykop are available under URL's with numbers: https://www.wykop.pl/link/3953283/ This URL will redirect to correct one, containing title: https://www.wykop.pl/link/3953283/to-juz-oficjalne-nasa-wraca-na-ksiezyc/\n",
    "\n",
    "Shortest sequence of steps require to call URL using https protocol and with \"/\" at the end."
   ]
  },
  {
   "cell_type": "markdown",
   "metadata": {},
   "source": [
    "### Existing resource"
   ]
  },
  {
   "cell_type": "code",
   "execution_count": null,
   "metadata": {},
   "outputs": [
    {
     "name": "stdout",
     "output_type": "stream",
     "text": [
      "301\n",
      "https://www.wykop.pl/link/3953283/to-juz-oficjalne-nasa-wraca-na-ksiezyc/\n"
     ]
    }
   ],
   "source": [
    "import requests\n",
    "\n",
    "# allow_redirects=False - this is to prevent requests from automaticly following redirections\n",
    "r = requests.get('https://www.wykop.pl/link/3953283/', allow_redirects=False)\n",
    "print r.status_code\n",
    "print r.headers['Location']"
   ]
  },
  {
   "cell_type": "markdown",
   "metadata": {},
   "source": [
    "### Non existing resource"
   ]
  },
  {
   "cell_type": "code",
   "execution_count": 3,
   "metadata": {},
   "outputs": [
    {
     "name": "stdout",
     "output_type": "stream",
     "text": [
      "404\n"
     ]
    }
   ],
   "source": [
    "import requests\n",
    "\n",
    "# allow_redirects=False - this is to prevent requests from automaticly following redirections\n",
    "r = requests.get('https://www.wykop.pl/link/3953282/', allow_redirects=False)\n",
    "print r.status_code"
   ]
  },
  {
   "cell_type": "markdown",
   "metadata": {},
   "source": [
    "### Function fetching wykop pages"
   ]
  },
  {
   "cell_type": "code",
   "execution_count": 4,
   "metadata": {},
   "outputs": [],
   "source": [
    "def fetch_wykop_page(id):\n",
    "    \"\"\"\n",
    "    Fetch main wykop page by id\n",
    "    \n",
    "    Parameters:\n",
    "    id: page id\n",
    "    \n",
    "    Returns:\n",
    "    Dictionary: {\n",
    "        id: requested page's id\n",
    "        exists: boolean - is page exists\n",
    "        url: full url of page with requested id\n",
    "        error: error massage if error ocure\n",
    "        body: text with body of page\n",
    "    }\n",
    "    \"\"\"\n",
    "    \n",
    "    r = requests.get('https://www.wykop.pl/link/%d/' % id, allow_redirects=False)\n",
    "    if r.status_code==404:\n",
    "        return {\n",
    "            'id': id, \n",
    "            'exists': False, \n",
    "            'error': None\n",
    "        }\n",
    "    elif r.status_code==301:\n",
    "        r2 = requests.get(r.headers['Location'], allow_redirects=False)\n",
    "        if r2.status_code==200:\n",
    "            return {\n",
    "                'id': id, \n",
    "                'exists': True, \n",
    "                'url': r.headers['Location'],\n",
    "                'error': None,\n",
    "                'body': r2.text\n",
    "                   }\n",
    "        else:\n",
    "            return {\n",
    "                'id': id, \n",
    "                'exists': True, \n",
    "                'url': r.headers['Location'],\n",
    "                'error': 'error fetching redirected page: %d' % r2.status_code\n",
    "                   }\n",
    "    else:\n",
    "        return {\n",
    "                'id': id, \n",
    "                'exists': False, \n",
    "                'error': 'error fetching main page: %d' % r.status_code\n",
    "                   }"
   ]
  },
  {
   "cell_type": "code",
   "execution_count": 5,
   "metadata": {},
   "outputs": [
    {
     "name": "stdout",
     "output_type": "stream",
     "text": [
      "{'id': 3953282, 'exists': False, 'error': None}\n"
     ]
    }
   ],
   "source": [
    "# correct page, contains page body so it's litle messy\n",
    "# print fetch_wykop_page(3953283)\n",
    "\n",
    "# non existing page\n",
    "print fetch_wykop_page(3953282)\n"
   ]
  },
  {
   "cell_type": "code",
   "execution_count": null,
   "metadata": {},
   "outputs": [],
   "source": []
  }
 ],
 "metadata": {
  "kernelspec": {
   "display_name": "Python 2",
   "language": "python",
   "name": "python2"
  },
  "language_info": {
   "codemirror_mode": {
    "name": "ipython",
    "version": 2
   },
   "file_extension": ".py",
   "mimetype": "text/x-python",
   "name": "python",
   "nbconvert_exporter": "python",
   "pygments_lexer": "ipython2",
   "version": "2.7.13"
  }
 },
 "nbformat": 4,
 "nbformat_minor": 2
}
