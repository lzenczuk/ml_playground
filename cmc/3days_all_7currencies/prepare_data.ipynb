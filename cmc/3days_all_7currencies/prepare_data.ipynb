{
 "cells": [
  {
   "cell_type": "markdown",
   "metadata": {},
   "source": [
    "### Prepare daily dataset\n",
    "Based on downloaded failes with prices of selected currencies notebook prepare set with all currencies and daily change of price as percentage."
   ]
  },
  {
   "cell_type": "code",
   "execution_count": 1,
   "metadata": {},
   "outputs": [],
   "source": [
    "import pandas as pd\n",
    "import matplotlib.pyplot as plt"
   ]
  },
  {
   "cell_type": "code",
   "execution_count": 2,
   "metadata": {},
   "outputs": [],
   "source": [
    "def load_data(currency_name):\n",
    "    file_name = '../'+currency_name+'.csv'\n",
    "    \n",
    "    df = pd.read_csv(file_name)\n",
    "    df['date'] = pd.to_datetime(df['date'], utc=True, infer_datetime_format = True)\n",
    "\n",
    "    df = df.sort_values('date', ascending = True)\n",
    "    \n",
    "    return df\n",
    "\n",
    "\n",
    "def close_price_percentage_change(row):\n",
    "    cp = row['close_price']\n",
    "    cpc = row['price_change']\n",
    "    \n",
    "    #prevoiuse price\n",
    "    pp = cp-cpc\n",
    "    \n",
    "    return cpc/pp*100\n",
    "\n",
    "\n",
    "def extract_percentage_changes(df):\n",
    "    # Extract required columns\n",
    "    cp_df = df[['date', 'close_price']]\n",
    "    cp = cp_df['close_price']\n",
    "\n",
    "    # Add difference between days as column\n",
    "    cp_df.loc[:,'price_change']=cp.diff()\n",
    "    \n",
    "    # Add percentage change as  column\n",
    "    cp_df.loc[:,'percentage_change']=cp_df.apply(lambda row: close_price_percentage_change(row), axis=1)\n",
    "    \n",
    "    # Remove obsolete columns\n",
    "    result_df = cp_df.drop(['close_price', 'price_change'], axis=1)\n",
    "    \n",
    "    return result_df\n"
   ]
  },
  {
   "cell_type": "code",
   "execution_count": 3,
   "metadata": {},
   "outputs": [
    {
     "name": "stdout",
     "output_type": "stream",
     "text": [
      "Loading: ETH\n"
     ]
    },
    {
     "name": "stderr",
     "output_type": "stream",
     "text": [
      "/home/dev/anaconda3/envs/mn_nanodegree/lib/python2.7/site-packages/pandas/core/indexing.py:337: SettingWithCopyWarning: \n",
      "A value is trying to be set on a copy of a slice from a DataFrame.\n",
      "Try using .loc[row_indexer,col_indexer] = value instead\n",
      "\n",
      "See the caveats in the documentation: http://pandas.pydata.org/pandas-docs/stable/indexing.html#indexing-view-versus-copy\n",
      "  self.obj[key] = _infer_fill_value(value)\n",
      "/home/dev/anaconda3/envs/mn_nanodegree/lib/python2.7/site-packages/pandas/core/indexing.py:517: SettingWithCopyWarning: \n",
      "A value is trying to be set on a copy of a slice from a DataFrame.\n",
      "Try using .loc[row_indexer,col_indexer] = value instead\n",
      "\n",
      "See the caveats in the documentation: http://pandas.pydata.org/pandas-docs/stable/indexing.html#indexing-view-versus-copy\n",
      "  self.obj[item] = s\n"
     ]
    },
    {
     "name": "stdout",
     "output_type": "stream",
     "text": [
      "Loading: BTC\n",
      "Loading: XRP\n",
      "Loading: LTC\n",
      "Loading: DASH\n"
     ]
    }
   ],
   "source": [
    "# Load and process data for selected currencies\n",
    "currencies = ['ETH', 'BTC', 'XRP', 'LTC', 'DASH']\n",
    "\n",
    "# Dictionary containing data frames for each currency\n",
    "dfs = {}\n",
    "\n",
    "for _, c in enumerate(currencies):\n",
    "    print \"Loading: \"+c\n",
    "    df = load_data(c)\n",
    "    dfs[c] = extract_percentage_changes(df).rename(columns = {'percentage_change': c})\n",
    "    \n",
    "    \n",
    "    "
   ]
  },
  {
   "cell_type": "code",
   "execution_count": 4,
   "metadata": {},
   "outputs": [
    {
     "data": {
      "text/html": [
       "<div>\n",
       "<style>\n",
       "    .dataframe thead tr:only-child th {\n",
       "        text-align: right;\n",
       "    }\n",
       "\n",
       "    .dataframe thead th {\n",
       "        text-align: left;\n",
       "    }\n",
       "\n",
       "    .dataframe tbody tr th {\n",
       "        vertical-align: top;\n",
       "    }\n",
       "</style>\n",
       "<table border=\"1\" class=\"dataframe\">\n",
       "  <thead>\n",
       "    <tr style=\"text-align: right;\">\n",
       "      <th></th>\n",
       "      <th>date</th>\n",
       "      <th>ETH</th>\n",
       "      <th>LTC</th>\n",
       "      <th>DASH</th>\n",
       "      <th>XRP</th>\n",
       "      <th>BTC</th>\n",
       "    </tr>\n",
       "  </thead>\n",
       "  <tbody>\n",
       "    <tr>\n",
       "      <th>820</th>\n",
       "      <td>2017-11-04</td>\n",
       "      <td>-1.714043</td>\n",
       "      <td>-2.029192</td>\n",
       "      <td>-1.403496</td>\n",
       "      <td>-2.105865</td>\n",
       "      <td>2.388953</td>\n",
       "    </tr>\n",
       "    <tr>\n",
       "      <th>821</th>\n",
       "      <td>2017-11-05</td>\n",
       "      <td>-1.401138</td>\n",
       "      <td>-0.526890</td>\n",
       "      <td>-0.549731</td>\n",
       "      <td>-0.831902</td>\n",
       "      <td>0.372089</td>\n",
       "    </tr>\n",
       "    <tr>\n",
       "      <th>822</th>\n",
       "      <td>2017-11-06</td>\n",
       "      <td>0.887734</td>\n",
       "      <td>0.767123</td>\n",
       "      <td>0.918842</td>\n",
       "      <td>1.947490</td>\n",
       "      <td>-5.192773</td>\n",
       "    </tr>\n",
       "    <tr>\n",
       "      <th>823</th>\n",
       "      <td>2017-11-07</td>\n",
       "      <td>-1.415236</td>\n",
       "      <td>11.111111</td>\n",
       "      <td>6.420488</td>\n",
       "      <td>2.118549</td>\n",
       "      <td>1.731798</td>\n",
       "    </tr>\n",
       "    <tr>\n",
       "      <th>824</th>\n",
       "      <td>2017-11-08</td>\n",
       "      <td>4.890382</td>\n",
       "      <td>2.071778</td>\n",
       "      <td>7.822619</td>\n",
       "      <td>3.367181</td>\n",
       "      <td>4.413399</td>\n",
       "    </tr>\n",
       "  </tbody>\n",
       "</table>\n",
       "</div>"
      ],
      "text/plain": [
       "          date       ETH        LTC      DASH       XRP       BTC\n",
       "820 2017-11-04 -1.714043  -2.029192 -1.403496 -2.105865  2.388953\n",
       "821 2017-11-05 -1.401138  -0.526890 -0.549731 -0.831902  0.372089\n",
       "822 2017-11-06  0.887734   0.767123  0.918842  1.947490 -5.192773\n",
       "823 2017-11-07 -1.415236  11.111111  6.420488  2.118549  1.731798\n",
       "824 2017-11-08  4.890382   2.071778  7.822619  3.367181  4.413399"
      ]
     },
     "metadata": {},
     "output_type": "display_data"
    }
   ],
   "source": [
    "def join_currencies_by_date(c1_df, c2_df):\n",
    "    return pd.merge(c1_df, c2_df, on=['date'], how='outer')\n",
    "\n",
    "\n",
    "ac_df = dfs['ETH']\n",
    "\n",
    "for c in dfs:\n",
    "    if c=='ETH':\n",
    "        continue\n",
    "    \n",
    "    ac_df = join_currencies_by_date(ac_df, dfs[c])\n",
    "\n",
    "ac_df = ac_df.sort_values('date', ascending = True).dropna()\n",
    "    \n",
    "display(ac_df.tail())"
   ]
  },
  {
   "cell_type": "code",
   "execution_count": 5,
   "metadata": {},
   "outputs": [],
   "source": [
    "# Define labels. 1 when eth price growth is bigger then 3\n",
    "y = ac_df['ETH'].apply(lambda e: e>3).map({True: 1, False: 0})\n"
   ]
  },
  {
   "cell_type": "code",
   "execution_count": 6,
   "metadata": {},
   "outputs": [
    {
     "data": {
      "text/html": [
       "<div>\n",
       "<style>\n",
       "    .dataframe thead tr:only-child th {\n",
       "        text-align: right;\n",
       "    }\n",
       "\n",
       "    .dataframe thead th {\n",
       "        text-align: left;\n",
       "    }\n",
       "\n",
       "    .dataframe tbody tr th {\n",
       "        vertical-align: top;\n",
       "    }\n",
       "</style>\n",
       "<table border=\"1\" class=\"dataframe\">\n",
       "  <thead>\n",
       "    <tr style=\"text-align: right;\">\n",
       "      <th></th>\n",
       "      <th>ETH</th>\n",
       "      <th>LTC</th>\n",
       "      <th>DASH</th>\n",
       "      <th>XRP</th>\n",
       "      <th>BTC</th>\n",
       "    </tr>\n",
       "  </thead>\n",
       "  <tbody>\n",
       "    <tr>\n",
       "      <th>count</th>\n",
       "      <td>824.000000</td>\n",
       "      <td>824.000000</td>\n",
       "      <td>824.000000</td>\n",
       "      <td>824.000000</td>\n",
       "      <td>824.000000</td>\n",
       "    </tr>\n",
       "    <tr>\n",
       "      <th>mean</th>\n",
       "      <td>0.920014</td>\n",
       "      <td>0.475404</td>\n",
       "      <td>0.716709</td>\n",
       "      <td>0.693835</td>\n",
       "      <td>0.462475</td>\n",
       "    </tr>\n",
       "    <tr>\n",
       "      <th>std</th>\n",
       "      <td>8.059214</td>\n",
       "      <td>5.647949</td>\n",
       "      <td>5.813453</td>\n",
       "      <td>9.067882</td>\n",
       "      <td>3.551501</td>\n",
       "    </tr>\n",
       "    <tr>\n",
       "      <th>min</th>\n",
       "      <td>-72.804152</td>\n",
       "      <td>-32.642151</td>\n",
       "      <td>-21.590494</td>\n",
       "      <td>-46.004676</td>\n",
       "      <td>-18.741098</td>\n",
       "    </tr>\n",
       "    <tr>\n",
       "      <th>25%</th>\n",
       "      <td>-2.581657</td>\n",
       "      <td>-1.247301</td>\n",
       "      <td>-2.179047</td>\n",
       "      <td>-1.758197</td>\n",
       "      <td>-0.678408</td>\n",
       "    </tr>\n",
       "    <tr>\n",
       "      <th>50%</th>\n",
       "      <td>-0.130492</td>\n",
       "      <td>0.000000</td>\n",
       "      <td>0.000000</td>\n",
       "      <td>-0.395146</td>\n",
       "      <td>0.293414</td>\n",
       "    </tr>\n",
       "    <tr>\n",
       "      <th>75%</th>\n",
       "      <td>3.370367</td>\n",
       "      <td>1.351631</td>\n",
       "      <td>2.982844</td>\n",
       "      <td>1.497623</td>\n",
       "      <td>1.784315</td>\n",
       "    </tr>\n",
       "    <tr>\n",
       "      <th>max</th>\n",
       "      <td>51.034374</td>\n",
       "      <td>66.587112</td>\n",
       "      <td>44.644982</td>\n",
       "      <td>179.366892</td>\n",
       "      <td>23.936079</td>\n",
       "    </tr>\n",
       "  </tbody>\n",
       "</table>\n",
       "</div>"
      ],
      "text/plain": [
       "              ETH         LTC        DASH         XRP         BTC\n",
       "count  824.000000  824.000000  824.000000  824.000000  824.000000\n",
       "mean     0.920014    0.475404    0.716709    0.693835    0.462475\n",
       "std      8.059214    5.647949    5.813453    9.067882    3.551501\n",
       "min    -72.804152  -32.642151  -21.590494  -46.004676  -18.741098\n",
       "25%     -2.581657   -1.247301   -2.179047   -1.758197   -0.678408\n",
       "50%     -0.130492    0.000000    0.000000   -0.395146    0.293414\n",
       "75%      3.370367    1.351631    2.982844    1.497623    1.784315\n",
       "max     51.034374   66.587112   44.644982  179.366892   23.936079"
      ]
     },
     "execution_count": 6,
     "metadata": {},
     "output_type": "execute_result"
    }
   ],
   "source": [
    "ac_df.describe()"
   ]
  },
  {
   "cell_type": "code",
   "execution_count": 7,
   "metadata": {},
   "outputs": [
    {
     "data": {
      "image/png": "[encoded data removed]",
      "text/plain": [
       "<matplotlib.figure.Figure at 0x7f31d66fbd50>"
      ]
     },
     "metadata": {},
     "output_type": "display_data"
    }
   ],
   "source": [
    "ac_df.hist(bins=100)\n",
    "plt.show()"
   ]
  },
  {
   "cell_type": "code",
   "execution_count": 8,
   "metadata": {},
   "outputs": [
    {
     "data": {
      "text/html": [
       "<div>\n",
       "<style>\n",
       "    .dataframe thead tr:only-child th {\n",
       "        text-align: right;\n",
       "    }\n",
       "\n",
       "    .dataframe thead th {\n",
       "        text-align: left;\n",
       "    }\n",
       "\n",
       "    .dataframe tbody tr th {\n",
       "        vertical-align: top;\n",
       "    }\n",
       "</style>\n",
       "<table border=\"1\" class=\"dataframe\">\n",
       "  <thead>\n",
       "    <tr style=\"text-align: right;\">\n",
       "      <th></th>\n",
       "      <th>ETH</th>\n",
       "      <th>LTC</th>\n",
       "      <th>DASH</th>\n",
       "      <th>XRP</th>\n",
       "      <th>BTC</th>\n",
       "    </tr>\n",
       "  </thead>\n",
       "  <tbody>\n",
       "    <tr>\n",
       "      <th>ETH</th>\n",
       "      <td>1.000000</td>\n",
       "      <td>0.175440</td>\n",
       "      <td>0.233080</td>\n",
       "      <td>0.050170</td>\n",
       "      <td>0.256867</td>\n",
       "    </tr>\n",
       "    <tr>\n",
       "      <th>LTC</th>\n",
       "      <td>0.175440</td>\n",
       "      <td>1.000000</td>\n",
       "      <td>0.253790</td>\n",
       "      <td>0.209570</td>\n",
       "      <td>0.513521</td>\n",
       "    </tr>\n",
       "    <tr>\n",
       "      <th>DASH</th>\n",
       "      <td>0.233080</td>\n",
       "      <td>0.253790</td>\n",
       "      <td>1.000000</td>\n",
       "      <td>0.024760</td>\n",
       "      <td>0.359943</td>\n",
       "    </tr>\n",
       "    <tr>\n",
       "      <th>XRP</th>\n",
       "      <td>0.050170</td>\n",
       "      <td>0.209570</td>\n",
       "      <td>0.024760</td>\n",
       "      <td>1.000000</td>\n",
       "      <td>0.156077</td>\n",
       "    </tr>\n",
       "    <tr>\n",
       "      <th>BTC</th>\n",
       "      <td>0.256867</td>\n",
       "      <td>0.513521</td>\n",
       "      <td>0.359943</td>\n",
       "      <td>0.156077</td>\n",
       "      <td>1.000000</td>\n",
       "    </tr>\n",
       "  </tbody>\n",
       "</table>\n",
       "</div>"
      ],
      "text/plain": [
       "           ETH       LTC      DASH       XRP       BTC\n",
       "ETH   1.000000  0.175440  0.233080  0.050170  0.256867\n",
       "LTC   0.175440  1.000000  0.253790  0.209570  0.513521\n",
       "DASH  0.233080  0.253790  1.000000  0.024760  0.359943\n",
       "XRP   0.050170  0.209570  0.024760  1.000000  0.156077\n",
       "BTC   0.256867  0.513521  0.359943  0.156077  1.000000"
      ]
     },
     "metadata": {},
     "output_type": "display_data"
    },
    {
     "data": {
      "image/png": "[encoded data removed]",
      "text/plain": [
       "<matplotlib.figure.Figure at 0x7f31d36b3250>"
      ]
     },
     "metadata": {},
     "output_type": "display_data"
    }
   ],
   "source": [
    "display(ac_df.corr())\n",
    "\n",
    "cax = plt.matshow(ac_df.corr())\n",
    "plt.colorbar(cax)\n",
    "plt.show()"
   ]
  },
  {
   "cell_type": "code",
   "execution_count": 9,
   "metadata": {},
   "outputs": [],
   "source": [
    "# Save result set\n",
    "ac_df.to_csv('daily_percentage_change.csv', index=False)"
   ]
  }
 ],
 "metadata": {
  "kernelspec": {
   "display_name": "Python 2",
   "language": "python",
   "name": "python2"
  },
  "language_info": {
   "codemirror_mode": {
    "name": "ipython",
    "version": 2
   },
   "file_extension": ".py",
   "mimetype": "text/x-python",
   "name": "python",
   "nbconvert_exporter": "python",
   "pygments_lexer": "ipython2",
   "version": "2.7.13"
  }
 },
 "nbformat": 4,
 "nbformat_minor": 2
}
