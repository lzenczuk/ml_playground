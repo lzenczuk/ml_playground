{
 "cells": [
  {
   "cell_type": "code",
   "execution_count": 82,
   "metadata": {
    "scrolled": true
   },
   "outputs": [],
   "source": [
    "import requests\n",
    "from bs4 import BeautifulSoup    \n",
    "import datetime\n",
    "from decimal import Decimal\n",
    "import pandas as pd"
   ]
  },
  {
   "cell_type": "markdown",
   "metadata": {},
   "source": [
    "Function responsible for fetching symbols from main page. URLs from this page let to query historical prices"
   ]
  },
  {
   "cell_type": "code",
   "execution_count": 74,
   "metadata": {},
   "outputs": [],
   "source": [
    "def fetch_symbols():\n",
    "    \"\"\"Fetch symbols table from coinmarketcap.\n",
    "    \n",
    "    Returns dictionary in format:\n",
    "    {\n",
    "        symbol: {name, symbol, url}\n",
    "        ...\n",
    "    }\n",
    "    \"\"\"\n",
    "    main_url = 'https://coinmarketcap.com'\n",
    "\n",
    "    symbols_dict = {}\n",
    "\n",
    "    r = requests.get(main_url)\n",
    "\n",
    "    if r.status_code!=requests.codes.ok:\n",
    "        print \"Error fetching symbols %i: %s\" % (r.status_code, r.text)\n",
    "        r.raise_for_status()\n",
    "    else:\n",
    "        doc = BeautifulSoup(r.text, 'html.parser')\n",
    "        # Look for table with id currencies, should be only one\n",
    "        currencies_tab = doc.find_all(id='currencies')[0]\n",
    "        \n",
    "        for _, tr in enumerate(currencies_tab.select(\"tbody tr\")):\n",
    "            name = tr['id'].split('-')[1]\n",
    "        \n",
    "            l = tr.find_all('td', class_='currency-name')[0].find_all('a')[0]\n",
    "            symbol = l.text\n",
    "            url = main_url + l['href']\n",
    "        \n",
    "            symbols_dict[symbol] = {'name': name, 'symbol': symbol, 'url': url}\n",
    "    \n",
    "    return symbols_dict\n"
   ]
  },
  {
   "cell_type": "markdown",
   "metadata": {},
   "source": [
    "Function fetching all historical data for single currency. Require base currency url. In example for bitcoin it will be https://coinmarketcap.com/currencies/bitcoin/ Those URLs are fetched by previous function."
   ]
  },
  {
   "cell_type": "code",
   "execution_count": 79,
   "metadata": {},
   "outputs": [],
   "source": [
    "def fetch_historical_data(main_url='https://coinmarketcap.com/currencies/bitcoin/'):\n",
    "    \"\"\"Fetch all history of daily prices for a specific currenct.\n",
    "    \n",
    "    Params:\n",
    "    main_url - base url to specific currency\"\"\"\n",
    "    start='20130428'\n",
    "    \n",
    "    now = datetime.datetime.now()\n",
    "    end = \"%d%d%d\" % (now.year, now.month, now.day)\n",
    "    \n",
    "    data_url = main_url+'/historical-data/?start=%s&end=%s'%(start, end)\n",
    "    r = requests.get(data_url)\n",
    "    \n",
    "    result = []\n",
    "    \n",
    "    if r.status_code!=requests.codes.ok:\n",
    "        print \"Error fetching data %i: %s\" % (r.status_code, r.text)\n",
    "        r.raise_for_status()\n",
    "    else:\n",
    "        doc = BeautifulSoup(r.text, 'html.parser')\n",
    "        \n",
    "        data_tab = doc.find_all(id='historical-data')[0].select('table.table')[0]\n",
    "        \n",
    "        for _, tr in enumerate(data_tab.select('tbody tr')):\n",
    "            tds = tr.select('td')\n",
    "            \n",
    "            try:\n",
    "                volume = float(tds[5].text.replace(',',''))\n",
    "            except ValueError:\n",
    "                volume = float('nan')\n",
    "                \n",
    "            try:\n",
    "                market_cap = float(tds[6].text.replace(',',''))\n",
    "            except ValueError:\n",
    "                market_cap = float('nan')\n",
    "            \n",
    "            entry = {\n",
    "                'date': datetime.datetime.strptime(tds[0].text, '%b %d, %Y').isoformat(),\n",
    "                'open_price': float(tds[1].text),\n",
    "                'high_price': float(tds[2].text),\n",
    "                'low_price': float(tds[3].text),\n",
    "                'close_price': float(tds[4].text),\n",
    "                'volume': volume,\n",
    "                'market_cap': market_cap\n",
    "            }\n",
    "            \n",
    "            result.append(entry)\n",
    "    \n",
    "    return result\n"
   ]
  },
  {
   "cell_type": "markdown",
   "metadata": {},
   "source": [
    "Example usage of both functions to fetch eth prices and store in csv file"
   ]
  },
  {
   "cell_type": "code",
   "execution_count": 99,
   "metadata": {},
   "outputs": [],
   "source": [
    "symbols = fetch_symbols()\n",
    "\n",
    "eth_data = fetch_historical_data(symbols['ETH']['url'])\n",
    "\n",
    "eth_df = pd.DataFrame(eth_data)\n",
    "\n",
    "eth_df.to_csv('eth.csv', index=False, columns=['date', 'open_price', 'high_price', 'low_price', 'close_price', 'volume', 'market_cap'])\n"
   ]
  }
 ],
 "metadata": {
  "kernelspec": {
   "display_name": "Python 2",
   "language": "python",
   "name": "python2"
  },
  "language_info": {
   "codemirror_mode": {
    "name": "ipython",
    "version": 2
   },
   "file_extension": ".py",
   "mimetype": "text/x-python",
   "name": "python",
   "nbconvert_exporter": "python",
   "pygments_lexer": "ipython2",
   "version": "2.7.13"
  }
 },
 "nbformat": 4,
 "nbformat_minor": 2
}
